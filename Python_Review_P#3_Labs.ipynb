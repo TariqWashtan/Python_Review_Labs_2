{
 "cells": [
  {
   "cell_type": "markdown",
   "id": "2d4a0e4d",
   "metadata": {},
   "source": [
    "## Lab1-Lists\n",
    "Given the following list : [5, 4, 17, 19, 30, 2, 7, 10, 45]\n",
    "- Q1: Write a Python program to sum all the items in the list.\n",
    "- Q2: Write a Python program to get the largest number from the list.\n",
    "- Q3: Use list comprehension, create a new list from the above list containing only even numbers.\n",
    "- Q4: Use list slicing to get a new list from the previous list starting from the start to the 5th element in the list."
   ]
  },
  {
   "cell_type": "code",
   "execution_count": 18,
   "id": "88e0fe9c",
   "metadata": {},
   "outputs": [
    {
     "name": "stdout",
     "output_type": "stream",
     "text": [
      "Sum of all numbers in the list, using for loop: 139\n",
      "Sum of all numbers in the list, using 'sum' built-in function: 139\n",
      "Largest number in the list: 45\n",
      "List of even numbers: [4, 30, 2, 10]\n",
      "New list from start to 5th element: [5, 4, 17, 19, 30]\n"
     ]
    }
   ],
   "source": [
    "# Q1:\n",
    "\n",
    "# Define the list\n",
    "numbers = [5, 4, 17, 19, 30, 2, 7, 10, 45]\n",
    "\n",
    "def calculate_sum(Lst):\n",
    "    x = 0\n",
    "    for i in Lst:\n",
    "        x += i\n",
    "    return x\n",
    "\n",
    "print(\"Sum of all numbers in the list, using for loop:\", calculate_sum(numbers))\n",
    "\n",
    "# we can use a better way, Python built-in function \"sum\".\n",
    "# # Calculate the sum\n",
    "sum_of_numbers = sum(numbers)\n",
    "\n",
    "# Print the result\n",
    "print(\"Sum of all numbers in the list, using 'sum' built-in function:\", sum_of_numbers)\n",
    "\n",
    "\n",
    "# Q2:\n",
    "\n",
    "# Get the largest number\n",
    "largest_number = max(numbers)\n",
    "\n",
    "# Print the result\n",
    "print(\"Largest number in the list:\", largest_number)\n",
    "\n",
    "\n",
    "# Q3:\n",
    "\n",
    "# Create a new list containing only even numbers\n",
    "even_numbers = [num for num in numbers if num % 2 == 0]\n",
    "\n",
    "# Print the result\n",
    "print(\"List of even numbers:\", even_numbers)\n",
    "\n",
    "\n",
    "# Q4:\n",
    "\n",
    "# Get a new list using list slicing\n",
    "new_list = numbers[:5]\n",
    "\n",
    "# Print the result\n",
    "print(\"New list from start to 5th element:\", new_list)\n"
   ]
  },
  {
   "cell_type": "markdown",
   "id": "4df61e4c",
   "metadata": {},
   "source": [
    "## Lab2-Dictionary\n",
    "\n",
    "Build a phone book program that receives the phone number, and returns the name of the owner. \n",
    "You can follow the table below:\n",
    "\n",
    "| Name    | Number      |\n",
    "| -------- | ---------- |\n",
    "| Amal     | 1111111111 |\n",
    "| Mohammed | 2222222222 |\n",
    "| Khadijah | 3333333333 |\n",
    "| Abdullah  | 4444444444 |\n",
    "| Rawan    | 5555555555 |\n",
    "| Faisal   | 6666666666 |\n",
    "| Layla    | 7777777777 |\n",
    "\n",
    "\n",
    "- If the number exists, print the owner. Otherwise, print \"Sorry, the number is not found\".\n",
    "- If the number is less or more than 10 numbers, print \"This is invalid number\".\n",
    "- If the number contains letters or symbols, print \"This is invalid number\"."
   ]
  },
  {
   "cell_type": "code",
   "execution_count": 22,
   "id": "7d53c06c",
   "metadata": {},
   "outputs": [
    {
     "name": "stdout",
     "output_type": "stream",
     "text": [
      "The owner of the number 1111111111 is Amal\n",
      "This is an invalid number\n",
      "The owner of the number 2222222222 is Mohammed\n",
      "This is an invalid number\n",
      "Sorry, the number is not found\n"
     ]
    }
   ],
   "source": [
    "phone_book = {\n",
    "    \"1111111111\": \"Amal\",\n",
    "    \"2222222222\": \"Mohammed\",\n",
    "    \"3333333333\": \"Khadijah\",\n",
    "    \"4444444444\": \"Abdullah\",\n",
    "    \"5555555555\": \"Rawan\",\n",
    "    \"6666666666\": \"Faisal\",\n",
    "    \"7777777777\": \"Layla\"\n",
    "}\n",
    "\n",
    "def lookup_owner(phone_number):\n",
    "    if not phone_number.isdigit() or len(phone_number) != 10:     # Check if the phone number is not a 10-digit number\n",
    "        return \"This is an invalid number\"\n",
    "    elif phone_number in phone_book:                           # Check if the phone number is in the phone_book dictionary\n",
    "        return f\"The owner of the number {phone_number} is {phone_book[phone_number]}\"\n",
    "    else:                                                   # If the number is not found, return a message indicating that\n",
    "        return \"Sorry, the number is not found\"\n",
    "\n",
    "# Test cases\n",
    "print(lookup_owner(\"1111111111\"))  # Should print \"The owner of the number 1111111111 is Amal\"\n",
    "print(lookup_owner(\"999999\"))      # Should print \"This is an invalid number\"\n",
    "print(lookup_owner(\"2222222222\"))  # Should print \"The owner of the number 2222222222 is Mohammed\"\n",
    "print(lookup_owner(\"abcdefghij\"))  # Should print \"This is an invalid number\"\n",
    "print(lookup_owner(\"8888888888\"))  # Should print \"Sorry, the number is not found\"\n"
   ]
  },
  {
   "cell_type": "code",
   "execution_count": null,
   "id": "d34f03ba",
   "metadata": {},
   "outputs": [],
   "source": []
  }
 ],
 "metadata": {
  "kernelspec": {
   "display_name": "Python 3 (ipykernel)",
   "language": "python",
   "name": "python3"
  },
  "language_info": {
   "codemirror_mode": {
    "name": "ipython",
    "version": 3
   },
   "file_extension": ".py",
   "mimetype": "text/x-python",
   "name": "python",
   "nbconvert_exporter": "python",
   "pygments_lexer": "ipython3",
   "version": "3.10.5"
  }
 },
 "nbformat": 4,
 "nbformat_minor": 5
}
