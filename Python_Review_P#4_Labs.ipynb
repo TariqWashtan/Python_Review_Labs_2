{
 "cells": [
  {
   "cell_type": "code",
   "execution_count": 2,
   "metadata": {},
   "outputs": [
    {
     "name": "stdout",
     "output_type": "stream",
     "text": [
      "Item cost for pen: 120.0\n",
      "Total cost so far: 120.0\n",
      "Final total cost: 120.0\n",
      "Invalid input. Please enter a valid value.\n",
      "Invalid input. Please enter a valid value.\n"
     ]
    }
   ],
   "source": [
    "while True:\n",
    "    try:\n",
    "        # Ask the user to enter his name\n",
    "        name = input(\"Enter your name: \")\n",
    "        \n",
    "        # Ask the user to enter his age\n",
    "        age = int(input(\"Enter your age: \"))\n",
    "        \n",
    "        if age >= 0 and age <= 6:\n",
    "            print(\"Kid\")\n",
    "        elif age < 0:\n",
    "            print(\"Wrong age value, you cannot enter a value 0 or less.\")\n",
    "        else:\n",
    "            total_cost = 0\n",
    "            num_items = int(input(\"Enter the number of items you want to buy: \"))\n",
    "            for _ in range(num_items):\n",
    "                item_name = input(\"Enter the item name: \")\n",
    "                item_price = float(input(\"Enter the item price: \"))\n",
    "                item_quantity = int(input(\"Enter the item quantity: \"))\n",
    "                item_cost = item_price * item_quantity\n",
    "                total_cost += item_cost\n",
    "                print(f\"Item cost for {item_name}: {item_cost}\")\n",
    "                print(f\"Total cost so far: {total_cost}\")\n",
    "            \n",
    "            if total_cost > 200:\n",
    "                total_cost *= 0.8  # Apply 20% discount for total cost\n",
    "            \n",
    "            print(f\"Final total cost: {total_cost}\")\n",
    "        \n",
    "    except ValueError:\n",
    "        print(\"Invalid input. Please enter a valid value.\")\n",
    "    \n",
    "    repeat = input(\"Do you want to repeat the process? (yes/no): \")\n",
    "    if repeat.lower() != 'yes':\n",
    "        break\n"
   ]
  },
  {
   "cell_type": "code",
   "execution_count": null,
   "metadata": {},
   "outputs": [],
   "source": []
  }
 ],
 "metadata": {
  "kernelspec": {
   "display_name": "Python 3",
   "language": "python",
   "name": "python3"
  },
  "language_info": {
   "codemirror_mode": {
    "name": "ipython",
    "version": 3
   },
   "file_extension": ".py",
   "mimetype": "text/x-python",
   "name": "python",
   "nbconvert_exporter": "python",
   "pygments_lexer": "ipython3",
   "version": "3.10.5"
  }
 },
 "nbformat": 4,
 "nbformat_minor": 2
}
